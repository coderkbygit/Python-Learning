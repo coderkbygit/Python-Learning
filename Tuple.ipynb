{
 "cells": [
  {
   "cell_type": "markdown",
   "id": "e69b66cb",
   "metadata": {},
   "source": [
    ">#####  TUPLE\n",
    "- immutable ( unchangeable)\n",
    "- duplication is allowed\n",
    "- remove is not allowed\n",
    "- only 2 function will work (.index, .count)"
   ]
  },
  {
   "cell_type": "code",
   "execution_count": null,
   "id": "a06f9eaa",
   "metadata": {},
   "outputs": [
    {
     "data": {
      "text/plain": [
       "tuple"
      ]
     },
     "execution_count": 1,
     "metadata": {},
     "output_type": "execute_result"
    }
   ],
   "source": [
    "tup=() # Create Empty Tuple\n",
    "type(tup)"
   ]
  },
  {
   "cell_type": "code",
   "execution_count": 4,
   "id": "e4e06b7d",
   "metadata": {},
   "outputs": [
    {
     "name": "stdout",
     "output_type": "stream",
     "text": [
      "(24, 56, 32, 0, 19)\n"
     ]
    }
   ],
   "source": [
    "intTup=(24,56,32,0,19) # tuple of integers numbers\n",
    "print(intTup)"
   ]
  },
  {
   "cell_type": "code",
   "execution_count": 5,
   "id": "c16e0862",
   "metadata": {},
   "outputs": [
    {
     "name": "stdout",
     "output_type": "stream",
     "text": [
      "(23.21, 11.09, 0.08, 99.99)\n"
     ]
    }
   ],
   "source": [
    "floatTuple= (23.21,11.09,00.08,99.99) # Tuple of float Numbers\n",
    "print(floatTuple)"
   ]
  },
  {
   "cell_type": "code",
   "execution_count": null,
   "id": "5ac8c9eb",
   "metadata": {},
   "outputs": [
    {
     "name": "stdout",
     "output_type": "stream",
     "text": [
      "('one', 'Thirteen', 'ten')\n"
     ]
    }
   ],
   "source": [
    "strTuple = ('one',\"Thirteen\",'''ten''')# Tuple of Strings\n",
    "print(strTuple)"
   ]
  },
  {
   "cell_type": "code",
   "execution_count": 8,
   "id": "a3d25809",
   "metadata": {},
   "outputs": [
    {
     "name": "stdout",
     "output_type": "stream",
     "text": [
      "('Amir', 234, 89.09, (134+34j), True, [12, 100], [True, 23.76, 'John'], (1, 7, 5))\n"
     ]
    }
   ],
   "source": [
    "mixTuple = ('Amir',234,89.09,134+34J,True,[12,100],[True,23.76,'John'],(1,7,5)) # Tuple of mIxed data types\n",
    "print(mixTuple)"
   ]
  },
  {
   "cell_type": "code",
   "execution_count": 9,
   "id": "1039b9d4",
   "metadata": {},
   "outputs": [
    {
     "name": "stdout",
     "output_type": "stream",
     "text": [
      "8\n"
     ]
    }
   ],
   "source": [
    "print(len(mixTuple))"
   ]
  },
  {
   "cell_type": "markdown",
   "id": "e3d87ff7",
   "metadata": {},
   "source": [
    "### TUPLE INDEXING"
   ]
  },
  {
   "cell_type": "code",
   "execution_count": 12,
   "id": "f82f0d1a",
   "metadata": {},
   "outputs": [
    {
     "name": "stdout",
     "output_type": "stream",
     "text": [
      "(24, 56, 32, 0, 19)\n"
     ]
    },
    {
     "data": {
      "text/plain": [
       "32"
      ]
     },
     "execution_count": 12,
     "metadata": {},
     "output_type": "execute_result"
    }
   ],
   "source": [
    "print(intTup)\n",
    "intTup[2]"
   ]
  },
  {
   "cell_type": "code",
   "execution_count": 13,
   "id": "a19d6569",
   "metadata": {},
   "outputs": [
    {
     "name": "stdout",
     "output_type": "stream",
     "text": [
      "23.76\n"
     ]
    }
   ],
   "source": [
    "print(mixTuple[6][1])"
   ]
  },
  {
   "cell_type": "code",
   "execution_count": 14,
   "id": "039186a6",
   "metadata": {},
   "outputs": [
    {
     "name": "stdout",
     "output_type": "stream",
     "text": [
      "(1, 7, 5)\n"
     ]
    }
   ],
   "source": [
    "print(mixTuple[-1])"
   ]
  },
  {
   "cell_type": "markdown",
   "id": "07e5888e",
   "metadata": {},
   "source": [
    "### Tuple Slicing"
   ]
  },
  {
   "cell_type": "code",
   "execution_count": 15,
   "id": "75222bd5",
   "metadata": {},
   "outputs": [
    {
     "data": {
      "text/plain": [
       "('Amir', 234, 89.09)"
      ]
     },
     "execution_count": 15,
     "metadata": {},
     "output_type": "execute_result"
    }
   ],
   "source": [
    "mixTuple[0:3]"
   ]
  },
  {
   "cell_type": "code",
   "execution_count": 16,
   "id": "9826c889",
   "metadata": {},
   "outputs": [
    {
     "data": {
      "text/plain": [
       "(89.09, (134+34j), True)"
      ]
     },
     "execution_count": 16,
     "metadata": {},
     "output_type": "execute_result"
    }
   ],
   "source": [
    "mixTuple[2:5]"
   ]
  },
  {
   "cell_type": "code",
   "execution_count": 17,
   "id": "e2fbc1aa",
   "metadata": {},
   "outputs": [
    {
     "data": {
      "text/plain": [
       "('Amir', 234, 89.09)"
      ]
     },
     "execution_count": 17,
     "metadata": {},
     "output_type": "execute_result"
    }
   ],
   "source": [
    "mixTuple[:3]"
   ]
  },
  {
   "cell_type": "code",
   "execution_count": 18,
   "id": "edcf15b5",
   "metadata": {},
   "outputs": [
    {
     "data": {
      "text/plain": [
       "(True, [12, 100], [True, 23.76, 'John'], (1, 7, 5))"
      ]
     },
     "execution_count": 18,
     "metadata": {},
     "output_type": "execute_result"
    }
   ],
   "source": [
    "mixTuple[-4:]"
   ]
  },
  {
   "cell_type": "markdown",
   "id": "df3e7487",
   "metadata": {},
   "source": [
    "Tuple Remove and change elements"
   ]
  },
  {
   "cell_type": "code",
   "execution_count": 19,
   "id": "30c969ce",
   "metadata": {},
   "outputs": [
    {
     "name": "stdout",
     "output_type": "stream",
     "text": [
      "(24, 56, 32, 0, 19)\n"
     ]
    }
   ],
   "source": [
    "print(intTup)"
   ]
  },
  {
   "cell_type": "code",
   "execution_count": 21,
   "id": "7a136f0d",
   "metadata": {},
   "outputs": [
    {
     "ename": "NameError",
     "evalue": "name 'intTup' is not defined",
     "output_type": "error",
     "traceback": [
      "\u001b[1;31m---------------------------------------------------------------------------\u001b[0m",
      "\u001b[1;31mNameError\u001b[0m                                 Traceback (most recent call last)",
      "Cell \u001b[1;32mIn[21], line 1\u001b[0m\n\u001b[1;32m----> 1\u001b[0m \u001b[38;5;28;01mdel\u001b[39;00m(intTup)\n\u001b[0;32m      2\u001b[0m \u001b[38;5;28mprint\u001b[39m(intTup)\n",
      "\u001b[1;31mNameError\u001b[0m: name 'intTup' is not defined"
     ]
    }
   ],
   "source": [
    "del(intTup)\n",
    "print(intTup)"
   ]
  },
  {
   "cell_type": "code",
   "execution_count": null,
   "id": "f0bcf54a",
   "metadata": {},
   "outputs": [
    {
     "ename": "TypeError",
     "evalue": "'tuple' object does not support item assignment",
     "output_type": "error",
     "traceback": [
      "\u001b[1;31m---------------------------------------------------------------------------\u001b[0m",
      "\u001b[1;31mTypeError\u001b[0m                                 Traceback (most recent call last)",
      "Cell \u001b[1;32mIn[22], line 1\u001b[0m\n\u001b[1;32m----> 1\u001b[0m mixTuple[\u001b[38;5;241m0\u001b[39m]\u001b[38;5;241m=\u001b[39m\u001b[38;5;241m9889\u001b[39m\n",
      "\u001b[1;31mTypeError\u001b[0m: 'tuple' object does not support item assignment"
     ]
    }
   ],
   "source": [
    "mixTuple[0]=9889 # Tuple are immutable changing elements not allowed"
   ]
  },
  {
   "cell_type": "markdown",
   "id": "d916eccb",
   "metadata": {},
   "source": [
    "Loop Through Tuple "
   ]
  },
  {
   "cell_type": "code",
   "execution_count": 23,
   "id": "49099983",
   "metadata": {},
   "outputs": [
    {
     "data": {
      "text/plain": [
       "('Amir',\n",
       " 234,\n",
       " 89.09,\n",
       " (134+34j),\n",
       " True,\n",
       " [12, 100],\n",
       " [True, 23.76, 'John'],\n",
       " (1, 7, 5))"
      ]
     },
     "execution_count": 23,
     "metadata": {},
     "output_type": "execute_result"
    }
   ],
   "source": [
    "mixTuple"
   ]
  },
  {
   "cell_type": "code",
   "execution_count": 24,
   "id": "ba1e7d97",
   "metadata": {},
   "outputs": [
    {
     "name": "stdout",
     "output_type": "stream",
     "text": [
      "Amir\n",
      "234\n",
      "89.09\n",
      "(134+34j)\n",
      "True\n",
      "[12, 100]\n",
      "[True, 23.76, 'John']\n",
      "(1, 7, 5)\n"
     ]
    }
   ],
   "source": [
    "for i in mixTuple:\n",
    "    print(i)"
   ]
  },
  {
   "cell_type": "code",
   "execution_count": 26,
   "id": "4c3dcbf6",
   "metadata": {},
   "outputs": [
    {
     "name": "stdout",
     "output_type": "stream",
     "text": [
      "(0, 'Amir')\n",
      "(1, 234)\n",
      "(2, 89.09)\n",
      "(3, (134+34j))\n",
      "(4, True)\n",
      "(5, [12, 100])\n",
      "(6, [True, 23.76, 'John'])\n",
      "(7, (1, 7, 5))\n"
     ]
    }
   ],
   "source": [
    "for i in enumerate(mixTuple):\n",
    "    print(i)"
   ]
  },
  {
   "cell_type": "markdown",
   "id": "e7db78b1",
   "metadata": {},
   "source": [
    "Membership\n"
   ]
  },
  {
   "cell_type": "code",
   "execution_count": 27,
   "id": "225581b5",
   "metadata": {},
   "outputs": [
    {
     "data": {
      "text/plain": [
       "('Amir',\n",
       " 234,\n",
       " 89.09,\n",
       " (134+34j),\n",
       " True,\n",
       " [12, 100],\n",
       " [True, 23.76, 'John'],\n",
       " (1, 7, 5))"
      ]
     },
     "execution_count": 27,
     "metadata": {},
     "output_type": "execute_result"
    }
   ],
   "source": [
    "mixTuple"
   ]
  },
  {
   "cell_type": "code",
   "execution_count": 28,
   "id": "57e8c5a0",
   "metadata": {},
   "outputs": [
    {
     "data": {
      "text/plain": [
       "True"
      ]
     },
     "execution_count": 28,
     "metadata": {},
     "output_type": "execute_result"
    }
   ],
   "source": [
    "234 in mixTuple"
   ]
  },
  {
   "cell_type": "code",
   "execution_count": 30,
   "id": "6906b259",
   "metadata": {},
   "outputs": [
    {
     "data": {
      "text/plain": [
       "False"
      ]
     },
     "execution_count": 30,
     "metadata": {},
     "output_type": "execute_result"
    }
   ],
   "source": [
    "0 in mixTuple"
   ]
  },
  {
   "cell_type": "code",
   "execution_count": 31,
   "id": "d97d5eaf",
   "metadata": {},
   "outputs": [
    {
     "name": "stdout",
     "output_type": "stream",
     "text": [
      "False is not present in tuple\n"
     ]
    }
   ],
   "source": [
    "if False in mixTuple:\n",
    "    print(\"False is present in tuple\")\n",
    "else:\n",
    "    print(\"False is not present in tuple\")"
   ]
  },
  {
   "cell_type": "markdown",
   "id": "668132f2",
   "metadata": {},
   "source": [
    "Index and Sorting"
   ]
  },
  {
   "cell_type": "code",
   "execution_count": 34,
   "id": "75416460",
   "metadata": {},
   "outputs": [
    {
     "data": {
      "text/plain": [
       "('Amir',\n",
       " 234,\n",
       " 89.09,\n",
       " (134+34j),\n",
       " True,\n",
       " [12, 100],\n",
       " [True, 23.76, 'John'],\n",
       " (1, 7, 5))"
      ]
     },
     "execution_count": 34,
     "metadata": {},
     "output_type": "execute_result"
    }
   ],
   "source": [
    "mixTuple"
   ]
  },
  {
   "cell_type": "code",
   "execution_count": 37,
   "id": "5b663292",
   "metadata": {},
   "outputs": [
    {
     "data": {
      "text/plain": [
       "2"
      ]
     },
     "execution_count": 37,
     "metadata": {},
     "output_type": "execute_result"
    }
   ],
   "source": [
    "mixTuple.index(89.09)"
   ]
  },
  {
   "cell_type": "code",
   "execution_count": 39,
   "id": "ab7dfc1d",
   "metadata": {},
   "outputs": [
    {
     "name": "stdout",
     "output_type": "stream",
     "text": [
      "[0.08, 11.09, 23.21, 99.99]\n"
     ]
    }
   ],
   "source": [
    "print(sorted(floatTuple))"
   ]
  },
  {
   "cell_type": "code",
   "execution_count": 40,
   "id": "06a680c8",
   "metadata": {},
   "outputs": [
    {
     "name": "stdout",
     "output_type": "stream",
     "text": [
      "[99.99, 23.21, 11.09, 0.08]\n"
     ]
    }
   ],
   "source": [
    "print(sorted(floatTuple, reverse=True))"
   ]
  }
 ],
 "metadata": {
  "kernelspec": {
   "display_name": "base",
   "language": "python",
   "name": "python3"
  },
  "language_info": {
   "codemirror_mode": {
    "name": "ipython",
    "version": 3
   },
   "file_extension": ".py",
   "mimetype": "text/x-python",
   "name": "python",
   "nbconvert_exporter": "python",
   "pygments_lexer": "ipython3",
   "version": "3.13.5"
  }
 },
 "nbformat": 4,
 "nbformat_minor": 5
}
