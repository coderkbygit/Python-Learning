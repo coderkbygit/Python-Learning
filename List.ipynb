{
 "cells": [
  {
   "cell_type": "code",
   "execution_count": 8,
   "id": "1104b6eb",
   "metadata": {},
   "outputs": [
    {
     "name": "stdout",
     "output_type": "stream",
     "text": [
      "[1, 7, 0, 9, 87, 'test', True, 0.0087, (10+2j)]\n"
     ]
    }
   ],
   "source": [
    "mylist=[1,7,0,9,87,'test',True,0.0087,10+2j]\n",
    "print(mylist)"
   ]
  },
  {
   "cell_type": "code",
   "execution_count": null,
   "id": "25089603",
   "metadata": {},
   "outputs": [
    {
     "data": {
      "text/plain": [
       "1"
      ]
     },
     "execution_count": 9,
     "metadata": {},
     "output_type": "execute_result"
    }
   ],
   "source": [
    "mylist.count(0) #Return number of occurrences of value(0 here)"
   ]
  },
  {
   "cell_type": "code",
   "execution_count": null,
   "id": "59534e72",
   "metadata": {},
   "outputs": [
    {
     "name": "stdout",
     "output_type": "stream",
     "text": [
      "[1, 7, 0, 9, 87, 'test', True, 0.0087, (10+2j), (22.22+4j)]\n"
     ]
    }
   ],
   "source": [
    "mylist.append(22.22+4j)# add item at last index\n",
    "print(mylist)"
   ]
  },
  {
   "cell_type": "markdown",
   "id": "bf23073b",
   "metadata": {
    "vscode": {
     "languageId": "raw"
    }
   },
   "source": [
    "# NESTED LIST"
   ]
  },
  {
   "cell_type": "code",
   "execution_count": null,
   "id": "20efdd6c",
   "metadata": {},
   "outputs": [
    {
     "name": "stdout",
     "output_type": "stream",
     "text": [
      "[1, 7, 0, 9, 87, 'test', True, 0.0087, (10+2j), (22.22+4j), ['True', 98, 'Random String']]\n"
     ]
    }
   ],
   "source": [
    "mylist.append(['True',98,\"Random String\"])# list added in main list \n",
    "print(mylist)"
   ]
  },
  {
   "cell_type": "code",
   "execution_count": 12,
   "id": "b6aeb2f7",
   "metadata": {},
   "outputs": [
    {
     "data": {
      "text/plain": [
       "[1,\n",
       " 7,\n",
       " 0,\n",
       " 9,\n",
       " 87,\n",
       " 'test',\n",
       " True,\n",
       " 0.0087,\n",
       " (10+2j),\n",
       " (22.22+4j),\n",
       " ['True', 98, 'Random String']]"
      ]
     },
     "execution_count": 12,
     "metadata": {},
     "output_type": "execute_result"
    }
   ],
   "source": [
    "mylist"
   ]
  },
  {
   "cell_type": "code",
   "execution_count": 16,
   "id": "7b0e4b6b",
   "metadata": {},
   "outputs": [
    {
     "name": "stdout",
     "output_type": "stream",
     "text": [
      "['True', 98, 'Random String']\n"
     ]
    }
   ],
   "source": [
    "print(mylist[10])"
   ]
  },
  {
   "cell_type": "code",
   "execution_count": null,
   "id": "f11fe48f",
   "metadata": {},
   "outputs": [
    {
     "name": "stdout",
     "output_type": "stream",
     "text": [
      "98\n"
     ]
    }
   ],
   "source": [
    "print(mylist[10][1])# Accessing nested List"
   ]
  },
  {
   "cell_type": "code",
   "execution_count": 18,
   "id": "0a622351",
   "metadata": {},
   "outputs": [
    {
     "data": {
      "text/plain": [
       "['True', 98, 'Random String']"
      ]
     },
     "execution_count": 18,
     "metadata": {},
     "output_type": "execute_result"
    }
   ],
   "source": [
    "mylist[-1]"
   ]
  },
  {
   "cell_type": "code",
   "execution_count": 19,
   "id": "4fbf136d",
   "metadata": {},
   "outputs": [
    {
     "data": {
      "text/plain": [
       "98"
      ]
     },
     "execution_count": 19,
     "metadata": {},
     "output_type": "execute_result"
    }
   ],
   "source": [
    "mylist[-1][1]"
   ]
  },
  {
   "cell_type": "code",
   "execution_count": null,
   "id": "7d05622e",
   "metadata": {},
   "outputs": [
    {
     "data": {
      "text/plain": [
       "[1,\n",
       " 7,\n",
       " 0,\n",
       " 9,\n",
       " 87,\n",
       " 'test',\n",
       " True,\n",
       " 0.0087,\n",
       " (10+2j),\n",
       " (22.22+4j),\n",
       " ['True', 98, 'Random String']]"
      ]
     },
     "execution_count": 20,
     "metadata": {},
     "output_type": "execute_result"
    }
   ],
   "source": [
    "mylist[:]# print all items of list"
   ]
  },
  {
   "cell_type": "code",
   "execution_count": null,
   "id": "16d936bd",
   "metadata": {},
   "outputs": [
    {
     "data": {
      "text/plain": [
       "[1, 7, 0, 9, 87]"
      ]
     },
     "execution_count": 21,
     "metadata": {},
     "output_type": "execute_result"
    }
   ],
   "source": [
    "mylist[:5]# starts from 0th till 4th index and exclude 5th index "
   ]
  },
  {
   "cell_type": "code",
   "execution_count": null,
   "id": "bfd71f06",
   "metadata": {},
   "outputs": [
    {
     "data": {
      "text/plain": [
       "[(10+2j), (22.22+4j), ['True', 98, 'Random String']]"
      ]
     },
     "execution_count": 22,
     "metadata": {},
     "output_type": "execute_result"
    }
   ],
   "source": [
    "mylist[-3:]# starting index 3rd last and print till list ends (here -3,-2 and -1) "
   ]
  },
  {
   "cell_type": "code",
   "execution_count": null,
   "id": "1b8bcfc0",
   "metadata": {},
   "outputs": [
    {
     "ename": "TypeError",
     "evalue": "insert expected 2 arguments, got 1",
     "output_type": "error",
     "traceback": [
      "\u001b[1;31m---------------------------------------------------------------------------\u001b[0m",
      "\u001b[1;31mTypeError\u001b[0m                                 Traceback (most recent call last)",
      "Cell \u001b[1;32mIn[23], line 1\u001b[0m\n\u001b[1;32m----> 1\u001b[0m mylist\u001b[38;5;241m.\u001b[39minsert(\u001b[38;5;241m9\u001b[39m)\n",
      "\u001b[1;31mTypeError\u001b[0m: insert expected 2 arguments, got 1"
     ]
    }
   ],
   "source": [
    "mylist.insert(9)# needs 2 parameter (index and value)"
   ]
  },
  {
   "cell_type": "code",
   "execution_count": null,
   "id": "3be365c3",
   "metadata": {},
   "outputs": [
    {
     "name": "stdout",
     "output_type": "stream",
     "text": [
      "[1, 7, 0, 9, 87, 'test', 9, True, 0.0087, (10+2j), (22.22+4j), ['True', 98, 'Random String']]\n"
     ]
    }
   ],
   "source": [
    "mylist.insert(6,9)# insert 9 in the 6thindex\n",
    "print(mylist)"
   ]
  },
  {
   "cell_type": "code",
   "execution_count": null,
   "id": "89db1407",
   "metadata": {},
   "outputs": [
    {
     "name": "stdout",
     "output_type": "stream",
     "text": [
      "[['True', 98, 'Random String'], (22.22+4j), (10+2j), 0.0087, True, 9, 'test', 87, 9, 0, 7, 1]\n"
     ]
    }
   ],
   "source": [
    "mylist.reverse() # it returns none but reverse the original list\n",
    "print(mylist)"
   ]
  },
  {
   "cell_type": "code",
   "execution_count": null,
   "id": "87d3e4a3",
   "metadata": {},
   "outputs": [
    {
     "name": "stdout",
     "output_type": "stream",
     "text": [
      "[['True', 98, 'Random String'], (22.22+4j), (10+2j), 0.0087, True, 'test', 87, 9, 0, 7, 1]\n"
     ]
    }
   ],
   "source": [
    "mylist.remove(9) # Remove first occurrence  of value - here 9 will be removed from the list\n",
    "print(mylist)"
   ]
  },
  {
   "cell_type": "code",
   "execution_count": null,
   "id": "3359ca17",
   "metadata": {},
   "outputs": [
    {
     "name": "stdout",
     "output_type": "stream",
     "text": [
      "Popped Item :  1\n",
      "main list [['True', 98, 'Random String'], (22.22+4j), (10+2j), 0.0087, True, 'test', 87, 9, 0, 7]\n"
     ]
    }
   ],
   "source": [
    "poppedItem = mylist.pop() # DEFAULT --> Returns last item from list and remove popped items from main list\n",
    "print(\"Popped Item : \",poppedItem)\n",
    "print(\"main list\",mylist)"
   ]
  },
  {
   "cell_type": "code",
   "execution_count": null,
   "id": "0502c1a3",
   "metadata": {},
   "outputs": [
    {
     "data": {
      "text/plain": [
       "[['True', 98, 'Random String'],\n",
       " (22.22+4j),\n",
       " (10+2j),\n",
       " 0.0087,\n",
       " True,\n",
       " 'test',\n",
       " 87,\n",
       " 9,\n",
       " 0,\n",
       " 7,\n",
       " 87.65]"
      ]
     },
     "execution_count": 44,
     "metadata": {},
     "output_type": "execute_result"
    }
   ],
   "source": [
    "mylist.insert(10,87.65) # insert value at 10th index\n",
    "mylist"
   ]
  },
  {
   "cell_type": "code",
   "execution_count": 45,
   "id": "d1f0683b",
   "metadata": {},
   "outputs": [
    {
     "name": "stdout",
     "output_type": "stream",
     "text": [
      "Popped Item :  87.65\n",
      "main list [['True', 98, 'Random String'], (22.22+4j), (10+2j), 0.0087, True, 'test', 87, 9, 0, 7]\n"
     ]
    }
   ],
   "source": [
    "poppedItem = mylist.pop(10)# INDEXED --> Returns 10th indexed item from list and remove popped items from main list\n",
    "print(\"Popped Item : \",poppedItem)\n",
    "print(\"main list\",mylist)"
   ]
  },
  {
   "cell_type": "markdown",
   "id": "82fae002",
   "metadata": {},
   "source": [
    "## COPY LIST"
   ]
  },
  {
   "cell_type": "code",
   "execution_count": 48,
   "id": "98138480",
   "metadata": {},
   "outputs": [
    {
     "name": "stdout",
     "output_type": "stream",
     "text": [
      "mylist address Value 2185095429568 \n",
      " List attributes  [['True', 98, 'Random String'], (22.22+4j), (10+2j), 0.0087, True, 'test', 87, 9, 0, 7]\n",
      "copyList address Value 2185094909696 \n",
      " CopyList attributes  [['True', 98, 'Random String'], (22.22+4j), (10+2j), 0.0087, True, 'test', 87, 9, 0, 7]\n"
     ]
    }
   ],
   "source": [
    "copyList = mylist.copy() # returns copy of the main list\n",
    "print(\"mylist address Value\",id(mylist),\"\\n List attributes \",mylist)\n",
    "print(\"copyList address Value\",id(copyList),\"\\n CopyList attributes \",copyList)"
   ]
  },
  {
   "cell_type": "code",
   "execution_count": 59,
   "id": "cc5535ff",
   "metadata": {},
   "outputs": [
    {
     "name": "stdout",
     "output_type": "stream",
     "text": [
      "mylsit:  [['True', 98, 'Random String'], (22.22+4j), (10+2j), 0.0087, True, 'test', 87, 9, 0, 7, 10]\n",
      "copylist [['True', 98, 'Random String'], (22.22+4j), (10+2j), 0.0087, True, 'test', 87, 9, 0, 7]\n"
     ]
    }
   ],
   "source": [
    "mylist.append(10)\n",
    "print(\"mylsit: \",mylist)\n",
    "print(\"copylist\",copyList)"
   ]
  },
  {
   "cell_type": "markdown",
   "id": "69ea0ff6",
   "metadata": {},
   "source": [
    "### JOIN LISTS ( \n",
    "     Using + and extend() function)"
   ]
  },
  {
   "cell_type": "code",
   "execution_count": 66,
   "id": "562ee0d0",
   "metadata": {},
   "outputs": [
    {
     "name": "stdout",
     "output_type": "stream",
     "text": [
      "['one', 'two', 'three', 'four', 'five', 'six', 'seven', 'three', 'eight']\n",
      "['one', 'two', 'three', 'four']\n",
      "['five', 'six', 'seven', 'three', 'eight']\n",
      "None\n",
      "['one', 'two', 'three', 'four', 'five', 'six', 'seven', 'three', 'eight']\n",
      "['five', 'six', 'seven', 'three', 'eight']\n"
     ]
    }
   ],
   "source": [
    "list1 = ['one', 'two', 'three', 'four'] \n",
    "list2 = ['five', 'six', 'seven','three', 'eight'] \n",
    "print(list1 + list2) # returns Joined List\n",
    "print(list1)\n",
    "print(list2)\n",
    "print(list1.extend(list2))# returns none but the first list is extended\n",
    "print(list1)\n",
    "print(list2)"
   ]
  },
  {
   "cell_type": "code",
   "execution_count": 68,
   "id": "12299c51",
   "metadata": {},
   "outputs": [
    {
     "name": "stdout",
     "output_type": "stream",
     "text": [
      "['five', 'six', 'seven', 'eight']\n"
     ]
    }
   ],
   "source": [
    "list2.remove('three')\n",
    "print(list2)"
   ]
  },
  {
   "cell_type": "code",
   "execution_count": null,
   "id": "a442233f",
   "metadata": {},
   "outputs": [
    {
     "name": "stdout",
     "output_type": "stream",
     "text": [
      "[]\n"
     ]
    }
   ],
   "source": [
    "list1.clear()# cleares whole list element\n",
    "print(list1)\n"
   ]
  },
  {
   "cell_type": "code",
   "execution_count": 69,
   "id": "5913a4ed",
   "metadata": {},
   "outputs": [
    {
     "ename": "NameError",
     "evalue": "name 'list1' is not defined",
     "output_type": "error",
     "traceback": [
      "\u001b[1;31m---------------------------------------------------------------------------\u001b[0m",
      "\u001b[1;31mNameError\u001b[0m                                 Traceback (most recent call last)",
      "Cell \u001b[1;32mIn[69], line 2\u001b[0m\n\u001b[0;32m      1\u001b[0m \u001b[38;5;28;01mdel\u001b[39;00m list1\n\u001b[1;32m----> 2\u001b[0m \u001b[38;5;28mprint\u001b[39m(list1)\n",
      "\u001b[1;31mNameError\u001b[0m: name 'list1' is not defined"
     ]
    }
   ],
   "source": [
    "del list1\n",
    "print(list1)"
   ]
  },
  {
   "cell_type": "markdown",
   "id": "5d3779a1",
   "metadata": {},
   "source": [
    "### LIST Membership`"
   ]
  },
  {
   "cell_type": "code",
   "execution_count": 70,
   "id": "f43c2e74",
   "metadata": {},
   "outputs": [
    {
     "data": {
      "text/plain": [
       "[['True', 98, 'Random String'],\n",
       " (22.22+4j),\n",
       " (10+2j),\n",
       " 0.0087,\n",
       " True,\n",
       " 'test',\n",
       " 87,\n",
       " 9,\n",
       " 0,\n",
       " 7,\n",
       " 10]"
      ]
     },
     "execution_count": 70,
     "metadata": {},
     "output_type": "execute_result"
    }
   ],
   "source": [
    "mylist"
   ]
  },
  {
   "cell_type": "code",
   "execution_count": null,
   "id": "c7d0fe3c",
   "metadata": {},
   "outputs": [
    {
     "data": {
      "text/plain": [
       "True"
      ]
     },
     "execution_count": 73,
     "metadata": {},
     "output_type": "execute_result"
    }
   ],
   "source": [
    "10+2j in mylist # check if element is present in list"
   ]
  },
  {
   "cell_type": "code",
   "execution_count": null,
   "id": "f4dc99d1",
   "metadata": {},
   "outputs": [
    {
     "data": {
      "text/plain": [
       "False"
      ]
     },
     "execution_count": 74,
     "metadata": {},
     "output_type": "execute_result"
    }
   ],
   "source": [
    "98 in mylist # Not applicable for items in nested list"
   ]
  },
  {
   "cell_type": "code",
   "execution_count": null,
   "id": "916482b6",
   "metadata": {},
   "outputs": [
    {
     "data": {
      "text/plain": [
       "True"
      ]
     },
     "execution_count": 76,
     "metadata": {},
     "output_type": "execute_result"
    }
   ],
   "source": [
    "98 in mylist[0] #nested items can also be searched with in "
   ]
  },
  {
   "cell_type": "code",
   "execution_count": null,
   "id": "92da2f7f",
   "metadata": {},
   "outputs": [
    {
     "data": {
      "text/plain": [
       "True"
      ]
     },
     "execution_count": 75,
     "metadata": {},
     "output_type": "execute_result"
    }
   ],
   "source": [
    "['True', 98, 'Random String'] in mylist # nested list is also exists"
   ]
  },
  {
   "cell_type": "code",
   "execution_count": 77,
   "id": "494f6366",
   "metadata": {},
   "outputs": [
    {
     "data": {
      "text/plain": [
       "False"
      ]
     },
     "execution_count": 77,
     "metadata": {},
     "output_type": "execute_result"
    }
   ],
   "source": [
    "1000 in mylist"
   ]
  },
  {
   "cell_type": "code",
   "execution_count": null,
   "id": "a7021029",
   "metadata": {},
   "outputs": [
    {
     "name": "stdout",
     "output_type": "stream",
     "text": [
      "[['True', 98, 'Random String'], (22.22+4j), (10+2j), 0.0087, True, 'test', 87, 9, 0, 7, 10]\n",
      "[10, 7, 0, 9, 87, 'test', True, 0.0087, (10+2j), (22.22+4j), ['True', 98, 'Random String']]\n"
     ]
    }
   ],
   "source": [
    "print(mylist)\n",
    "\n",
    "# ANOTHER WAY TO REVERSE THE LIST BY USING SLICING \n",
    "\n",
    "print(mylist[::-1])"
   ]
  },
  {
   "cell_type": "markdown",
   "id": "8bba357f",
   "metadata": {},
   "source": [
    "##  SORT LIST"
   ]
  },
  {
   "cell_type": "code",
   "execution_count": null,
   "id": "9706964b",
   "metadata": {},
   "outputs": [
    {
     "name": "stdout",
     "output_type": "stream",
     "text": [
      "Sort returns :  None\n",
      "mylist3 value [2, 5, 9, 12, 34, 88, 99]\n"
     ]
    }
   ],
   "source": [
    "mylist3 = [9,5,2,99,12,88,34] \n",
    "print(\"Sort returns : \",mylist3.sort())# returns none butsort the original list\n",
    "print(\"mylist3 value\" , mylist3 )\n"
   ]
  },
  {
   "cell_type": "code",
   "execution_count": 87,
   "id": "1301baed",
   "metadata": {},
   "outputs": [
    {
     "data": {
      "text/plain": [
       "[99, 88, 34, 12, 9, 5, 2]"
      ]
     },
     "execution_count": 87,
     "metadata": {},
     "output_type": "execute_result"
    }
   ],
   "source": [
    "mylist3 = [9,5,2,99,12,88,34] \n",
    "mylist3.sort(reverse=True) # Sort list in descending order \n",
    "mylist3 "
   ]
  },
  {
   "cell_type": "code",
   "execution_count": null,
   "id": "d994b444",
   "metadata": {},
   "outputs": [
    {
     "ename": "TypeError",
     "evalue": "'<' not supported between instances of 'complex' and 'list'",
     "output_type": "error",
     "traceback": [
      "\u001b[1;31m---------------------------------------------------------------------------\u001b[0m",
      "\u001b[1;31mTypeError\u001b[0m                                 Traceback (most recent call last)",
      "Cell \u001b[1;32mIn[86], line 1\u001b[0m\n\u001b[1;32m----> 1\u001b[0m \u001b[38;5;28mprint\u001b[39m(mylist\u001b[38;5;241m.\u001b[39msort())\n",
      "\u001b[1;31mTypeError\u001b[0m: '<' not supported between instances of 'complex' and 'list'"
     ]
    }
   ],
   "source": [
    "print(mylist.sort()) # NOT ABLE TO SORT THE COMPLEX LIST"
   ]
  },
  {
   "cell_type": "markdown",
   "id": "a729eaa0",
   "metadata": {},
   "source": [
    "### LOOP THROUGH LIST"
   ]
  },
  {
   "cell_type": "code",
   "execution_count": 90,
   "id": "7f67ebc4",
   "metadata": {},
   "outputs": [
    {
     "name": "stdout",
     "output_type": "stream",
     "text": [
      "[['True', 98, 'Random String'], (22.22+4j), (10+2j), 0.0087, True, 'test', 87, 9, 0, 7, 10]\n",
      "[99, 88, 34, 12, 9, 5, 2]\n"
     ]
    }
   ],
   "source": [
    "print(mylist)\n",
    "print(mylist3)\n"
   ]
  },
  {
   "cell_type": "code",
   "execution_count": 94,
   "id": "74b11c28",
   "metadata": {},
   "outputs": [
    {
     "name": "stdout",
     "output_type": "stream",
     "text": [
      "['True', 98, 'Random String']\n",
      "(22.22+4j)\n",
      "(10+2j)\n",
      "0.0087\n",
      "True\n",
      "test\n",
      "87\n",
      "9\n",
      "0\n",
      "7\n",
      "10\n"
     ]
    }
   ],
   "source": [
    "for i in mylist:\n",
    "    print(i)"
   ]
  },
  {
   "cell_type": "code",
   "execution_count": 98,
   "id": "0d5914ad",
   "metadata": {},
   "outputs": [
    {
     "name": "stdout",
     "output_type": "stream",
     "text": [
      "(0, ['True', 98, 'Random String']) <class 'tuple'>\n",
      "(1, (22.22+4j)) <class 'tuple'>\n",
      "(2, (10+2j)) <class 'tuple'>\n",
      "(3, 0.0087) <class 'tuple'>\n",
      "(4, True) <class 'tuple'>\n",
      "(5, 'test') <class 'tuple'>\n",
      "(6, 87) <class 'tuple'>\n",
      "(7, 9) <class 'tuple'>\n",
      "(8, 0) <class 'tuple'>\n",
      "(9, 7) <class 'tuple'>\n",
      "(10, 10) <class 'tuple'>\n"
     ]
    }
   ],
   "source": [
    "for i in enumerate(mylist):# Enumerate to return indexed list\n",
    "    print(i,type(i))# retuns tuple"
   ]
  },
  {
   "cell_type": "markdown",
   "id": "21f4a5ba",
   "metadata": {},
   "source": [
    "####    ALL or ANY  \n",
    "> The __`all()`__ method returns: \n",
    ">> _True_ - If all elements in a list are true <br>\n",
    "> _False_ - If any element in a list is false <br>\n",
    "\n",
    "> The __`any()`__ function returns True if any element in the list is True. If not, any() returns False."
   ]
  },
  {
   "cell_type": "markdown",
   "id": "d9cae6fa",
   "metadata": {},
   "source": [
    "## IN PYTHON ANY NON ZERO Value is TRUE"
   ]
  },
  {
   "cell_type": "code",
   "execution_count": 101,
   "id": "594753b2",
   "metadata": {},
   "outputs": [
    {
     "name": "stdout",
     "output_type": "stream",
     "text": [
      "[['True', 98, 'Random String'], (22.22+4j), (10+2j), 0.0087, True, 'test', 87, 9, 0, 7, 10]\n",
      "True\n"
     ]
    }
   ],
   "source": [
    "print (mylist)\n",
    "print(any(mylist))# Will Return True as we have items in the list with 0 value "
   ]
  },
  {
   "cell_type": "code",
   "execution_count": 100,
   "id": "21a28138",
   "metadata": {},
   "outputs": [
    {
     "name": "stdout",
     "output_type": "stream",
     "text": [
      "False\n"
     ]
    }
   ],
   "source": [
    "print(all(mylist))"
   ]
  },
  {
   "cell_type": "code",
   "execution_count": null,
   "id": "7d6708a0",
   "metadata": {},
   "outputs": [
    {
     "name": "stdout",
     "output_type": "stream",
     "text": [
      "[['True', 98, 'Random String'], (22.22+4j), (10+2j), 0.0087, True, 'test', 87, 9, 0, 7, 10]\n",
      "True\n"
     ]
    }
   ],
   "source": [
    "print (mylist)\n",
    "mylist.remove(0) # ONCE we REMOVE 0 then all other values are NON ZERO then it means all TRUE\n",
    "print(all(mylist))# now all() method will return True\n"
   ]
  }
 ],
 "metadata": {
  "kernelspec": {
   "display_name": "base",
   "language": "python",
   "name": "python3"
  },
  "language_info": {
   "codemirror_mode": {
    "name": "ipython",
    "version": 3
   },
   "file_extension": ".py",
   "mimetype": "text/x-python",
   "name": "python",
   "nbconvert_exporter": "python",
   "pygments_lexer": "ipython3",
   "version": "3.13.5"
  }
 },
 "nbformat": 4,
 "nbformat_minor": 5
}
